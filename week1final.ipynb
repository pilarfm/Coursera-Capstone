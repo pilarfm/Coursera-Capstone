{
 "cells": [
  {
   "cell_type": "markdown",
   "metadata": {},
   "source": [
    "## Description of the problem and a discussion of the background."
   ]
  },
  {
   "cell_type": "markdown",
   "metadata": {},
   "source": [
    "Bournemouth is a coastal resort town on the south coast of England. It is blessed with a beautiful beach along with a hometown for small industries and a renowned university.\n",
    "In this exercise, I will \n",
    "\n",
    "\n",
    "Objective 1: Divide different regions of Bournemouth based on the amenities e.g. Parks, Restaurants, and Hotels etc with the help of Foursquare API.\n",
    "\n",
    "\n",
    "Objective 2: Overlay Housing prices in each of these regions. And analyse if the sectors that we formed in Objective 1 show some trend in the housing prices.\n"
   ]
  },
  {
   "cell_type": "markdown",
   "metadata": {},
   "source": [
    "## Description of the data and how it will be used to solve the problem"
   ]
  },
  {
   "cell_type": "markdown",
   "metadata": {},
   "source": [
    "Co ordinates of each region:\n",
    "https://www.getthedata.com/open-postcode-geo\n"
   ]
  },
  {
   "cell_type": "markdown",
   "metadata": {},
   "source": [
    "\n",
    "House prices:\n",
    "https://www.streetlist.co.uk/bh/bh1\n"
   ]
  },
  {
   "cell_type": "code",
   "execution_count": null,
   "metadata": {},
   "outputs": [],
   "source": []
  }
 ],
 "metadata": {
  "kernelspec": {
   "display_name": "Python",
   "language": "python",
   "name": "conda-env-python-py"
  },
  "language_info": {
   "codemirror_mode": {
    "name": "ipython",
    "version": 3
   },
   "file_extension": ".py",
   "mimetype": "text/x-python",
   "name": "python",
   "nbconvert_exporter": "python",
   "pygments_lexer": "ipython3",
   "version": "3.6.11"
  }
 },
 "nbformat": 4,
 "nbformat_minor": 4
}
